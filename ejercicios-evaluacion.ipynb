{
 "cells": [
  {
   "cell_type": "code",
   "execution_count": 30,
   "metadata": {},
   "outputs": [],
   "source": [
    "# ---------CREO LA CLASE-------------\n",
    "class TiendaOnline:\n",
    "    def __init__ (self):\n",
    "        self.inventario = []\n",
    "        self.ventas_totales = 0.0"
   ]
  },
  {
   "cell_type": "code",
   "execution_count": 37,
   "metadata": {},
   "outputs": [],
   "source": [
    "# ----------------------MÉTODOS-------------------------------\n",
    "class TiendaOnline:      # La clase de la tienda\n",
    "    def __init__ (self):\n",
    "        self.inventario = []\n",
    "        self.ventas_totales = 0.0  \n",
    "    # Aquí creamos el método  agregar_producto\n",
    "    def agregar_producto (self, nombre, precio, cantidad):\n",
    "       for producto in self.inventario: # Iteramos por el inventario\n",
    "           if producto ['nombre'] == nombre:  # Si el producto está en el inventario...\n",
    "                producto ['cantidad'] += cantidad # Añadimos las nuevas unidades\n",
    "                return # Si no lo encontramos, dejamos de buscar y...\n",
    "           \n",
    "       nuevo_producto = {'nombre': nombre, 'precio': precio, 'cantidad': cantidad}\n",
    "       self.inventario.append(nuevo_producto)  # Agregamos el nuevo producto al inventario\n",
    "    # 2. Método: ver_inventario\n",
    "    def ver_inventario(self):\n",
    "        for producto in self.inventario: # Si el producto está...\n",
    "            print(producto)  # Vemos los detalles del producto\n",
    "    # 3. Método: buscar_producto\n",
    "    def buscar_producto (self,nombre): \n",
    "        for producto in self.inventario: \n",
    "            if producto ['nombre'] == nombre: # Si tenemos tal producto,\n",
    "                print(producto)               # Te muestro sus detalles\n",
    "                return\n",
    "    # 4. Método: actualizar_stock:\n",
    "    def actualizar_stock (self, nombre, cantidad):  \n",
    "        for producto in self.inventario:  \n",
    "            if producto ['nombre'] == nombre:  # ¿Está el producto en el inventario?\n",
    "                producto['cantidad'] += cantidad # Añadimos o quitamos una cantidad de producto\n",
    "                print(f\"El stock de {nombre} ha sido actualizado a {producto['cantidad']}.\")\n",
    "                return # Si no lo ha encontrado, para, y:\n",
    "        # Nos dice que el producto no está en el inventario.\n",
    "        print(f'El producto {nombre} no se encuentra en el inventario') \n",
    "    # 5. Método: eliminar_producto:\n",
    "    def eliminar_producto (self,nombre):\n",
    "        for producto in self.inventario:\n",
    "            if producto ['nombre'] == nombre: # Buscamos el producto\n",
    "                self.inventario.remove(producto) # Lo eliminamos\n",
    "                print(f'el producto {nombre} ha sido eliminado') # Avisamos de que ha sido eliminado\n",
    "                return\n",
    "        print(f'el producto {nombre} no se encuentra en el inventario') # Si no está el producto, avisamos. \n",
    "    # 6. Método: calcular_valor_inventario. Yo tengo un problema, porque mis precios son strings y tienen un símbolo $ delante.\n",
    "    # Aunque el ejercicio sólo especifica el uso del for, pero yo añado un condicional.\n",
    "    # Añado el condicional para que, haya o no haya símbolo '$', se realice la operación.\n",
    "    def calcular_valor_inventario (self):\n",
    "        total_inventario = 0.0 # Variable nueva, que es el total del valor de todo el inventario\n",
    "        for producto in self.inventario: # Iteramos\n",
    "            if '$'in producto['precio']: # Si hay '$' en el precio...\n",
    "                precio_str = str(producto ['precio']) # Lo pasamos a una variable como str para que no haya fallo\n",
    "                precio_sin_dolar = precio_str.replace('$','') # Le quitamos el '$'. \n",
    "                precio_produc = float(precio_sin_dolar) #Lo convertimos en float. Escojo float porque es dinero.\n",
    "                total_producto = precio_produc * (producto ['cantidad']) # Finalmente, stock multiplicado por precio\n",
    "                total_inventario += total_producto #Sumatorio de todo\n",
    "            else: #Si no hay '$'...\n",
    "                total_producto = (producto['precio']) * (producto ['cantidad']) # Hacemos solo la última parte de la operación\n",
    "                total_inventario += total_producto\n",
    "            \n",
    "        return print(f'El total del inventario es {total_inventario}')        "
   ]
  },
  {
   "cell_type": "code",
   "execution_count": 32,
   "metadata": {},
   "outputs": [
    {
     "name": "stdout",
     "output_type": "stream",
     "text": [
      "{'nombre': 'camisa', 'precio': '$20', 'cantidad': 50}\n",
      "{'nombre': 'pantalón', 'precio': '$30', 'cantidad': 30}\n",
      "{'nombre': 'zapatos', 'precio': '$50', 'cantidad': 40}\n"
     ]
    }
   ],
   "source": [
    "# Probando los métodos 1 y 2\n",
    "tienda = TiendaOnline() \n",
    "tienda.agregar_producto('camisa', '$20', 50)\n",
    "tienda.agregar_producto('pantalón', '$30', 30)\n",
    "tienda.agregar_producto('zapatos', '$50', 40)\n",
    "\n",
    "# Ver el inventario\n",
    "tienda.ver_inventario()"
   ]
  },
  {
   "cell_type": "code",
   "execution_count": 33,
   "metadata": {},
   "outputs": [
    {
     "name": "stdout",
     "output_type": "stream",
     "text": [
      "{'nombre': 'camisa', 'precio': '$20', 'cantidad': 50}\n"
     ]
    }
   ],
   "source": [
    "# En esta celda pruebo el método 3\n",
    "tienda.buscar_producto('camisa')"
   ]
  },
  {
   "cell_type": "code",
   "execution_count": 34,
   "metadata": {},
   "outputs": [
    {
     "name": "stdout",
     "output_type": "stream",
     "text": [
      "El producto falda no se encuentra en el inventario\n"
     ]
    }
   ],
   "source": [
    "# En esta pruebo el método 4\n",
    "tienda.actualizar_stock('falda', 50)"
   ]
  },
  {
   "cell_type": "code",
   "execution_count": 35,
   "metadata": {},
   "outputs": [
    {
     "name": "stdout",
     "output_type": "stream",
     "text": [
      "el producto zapatos ha sido eliminado\n",
      "el producto falda no se encuentra en el inventario\n"
     ]
    }
   ],
   "source": [
    "# En esta celda pruebo el método 5\n",
    "tienda.eliminar_producto('zapatos')\n",
    "tienda.eliminar_producto('falda')"
   ]
  },
  {
   "cell_type": "code",
   "execution_count": 41,
   "metadata": {},
   "outputs": [
    {
     "name": "stdout",
     "output_type": "stream",
     "text": [
      "{'nombre': 'camisa', 'precio': '$20', 'cantidad': 50}\n",
      "{'nombre': 'pantalón', 'precio': '$30', 'cantidad': 30}\n",
      "El total del inventario es 1900.0\n"
     ]
    }
   ],
   "source": [
    "# En esta celda pruebo el método 6\n",
    "tienda.ver_inventario()\n",
    "tienda.calcular_valor_inventario()"
   ]
  },
  {
   "cell_type": "code",
   "execution_count": null,
   "metadata": {},
   "outputs": [],
   "source": []
  },
  {
   "cell_type": "code",
   "execution_count": null,
   "metadata": {},
   "outputs": [],
   "source": []
  },
  {
   "cell_type": "code",
   "execution_count": null,
   "metadata": {},
   "outputs": [],
   "source": []
  },
  {
   "cell_type": "code",
   "execution_count": null,
   "metadata": {},
   "outputs": [],
   "source": []
  },
  {
   "cell_type": "code",
   "execution_count": null,
   "metadata": {},
   "outputs": [],
   "source": []
  },
  {
   "cell_type": "code",
   "execution_count": null,
   "metadata": {},
   "outputs": [],
   "source": []
  },
  {
   "cell_type": "code",
   "execution_count": null,
   "metadata": {},
   "outputs": [],
   "source": []
  },
  {
   "cell_type": "code",
   "execution_count": null,
   "metadata": {},
   "outputs": [],
   "source": []
  },
  {
   "cell_type": "code",
   "execution_count": null,
   "metadata": {},
   "outputs": [],
   "source": []
  },
  {
   "cell_type": "code",
   "execution_count": null,
   "metadata": {},
   "outputs": [],
   "source": []
  },
  {
   "cell_type": "code",
   "execution_count": null,
   "metadata": {},
   "outputs": [],
   "source": []
  },
  {
   "cell_type": "code",
   "execution_count": null,
   "metadata": {},
   "outputs": [],
   "source": []
  },
  {
   "cell_type": "code",
   "execution_count": null,
   "metadata": {},
   "outputs": [],
   "source": []
  },
  {
   "cell_type": "code",
   "execution_count": null,
   "metadata": {},
   "outputs": [],
   "source": []
  }
 ],
 "metadata": {
  "kernelspec": {
   "display_name": "Python 3",
   "language": "python",
   "name": "python3"
  },
  "language_info": {
   "codemirror_mode": {
    "name": "ipython",
    "version": 3
   },
   "file_extension": ".py",
   "mimetype": "text/x-python",
   "name": "python",
   "nbconvert_exporter": "python",
   "pygments_lexer": "ipython3",
   "version": "3.11.9"
  }
 },
 "nbformat": 4,
 "nbformat_minor": 2
}
