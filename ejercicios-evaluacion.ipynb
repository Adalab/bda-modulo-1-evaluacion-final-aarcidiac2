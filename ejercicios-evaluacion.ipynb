{
 "cells": [
  {
   "cell_type": "code",
   "execution_count": null,
   "metadata": {},
   "outputs": [],
   "source": [
    "# ---------CREO LA CLASE-------------\n",
    "class TiendaOnline:\n",
    "    def __init__ (self):\n",
    "        self.inventario = []\n",
    "        self.ventas_totales = 0.0"
   ]
  },
  {
   "cell_type": "code",
   "execution_count": 10,
   "metadata": {},
   "outputs": [],
   "source": [
    "# ----------------------MÉTODOS-------------------------------\n",
    "class TiendaOnline:      # La clase de la tienda\n",
    "    def __init__ (self):\n",
    "        self.inventario = []\n",
    "        self.ventas_totales = 0.0  \n",
    "    # Aquí creamos el método  agregar_producto\n",
    "    def agregar_producto (self, nombre, precio, cantidad):\n",
    "       for producto in self.inventario: # Iteramos por el inventario\n",
    "           if producto ['nombre'] == nombre:  # Si el producto está en el inventario...\n",
    "                producto ['cantidad'] += cantidad\n",
    "                return\n",
    "           \n",
    "       nuevo_producto = {'nombre': nombre, 'precio': precio, 'cantidad': cantidad}\n",
    "       self.inventario.append(nuevo_producto)  # Agregamos el nuevo producto al inventario\n",
    "    # 2. Método: ver_inventario\n",
    "    def ver_inventario(self):\n",
    "        for producto in self.inventario: #iteramos\n",
    "            print(producto) \n",
    "    # 3. Método: buscar_producto\n",
    "    def buscar_producto (self,nombre):\n",
    "        for producto in self.inventario:\n",
    "            if producto ['nombre'] == nombre:\n",
    "                print(producto)\n",
    "                return"
   ]
  },
  {
   "cell_type": "code",
   "execution_count": 11,
   "metadata": {},
   "outputs": [
    {
     "name": "stdout",
     "output_type": "stream",
     "text": [
      "{'nombre': 'camisa', 'precio': '$20', 'cantidad': 50}\n",
      "{'nombre': 'pantalón', 'precio': '$30', 'cantidad': 30}\n",
      "{'nombre': 'zapatos', 'precio': '$50', 'cantidad': 40}\n"
     ]
    }
   ],
   "source": [
    "# Probando los métodos 1 y 2\n",
    "tienda = TiendaOnline() \n",
    "tienda.agregar_producto('camisa', '$20', 50)\n",
    "tienda.agregar_producto('pantalón', '$30', 30)\n",
    "tienda.agregar_producto('zapatos', '$50', 40)\n",
    "\n",
    "# Ver el inventario\n",
    "tienda.ver_inventario()"
   ]
  },
  {
   "cell_type": "code",
   "execution_count": 12,
   "metadata": {},
   "outputs": [
    {
     "name": "stdout",
     "output_type": "stream",
     "text": [
      "{'nombre': 'camisa', 'precio': '$20', 'cantidad': 50}\n"
     ]
    }
   ],
   "source": [
    "# En esta celda voy probando los métodos 3\n",
    "tienda.buscar_producto('camisa')"
   ]
  },
  {
   "cell_type": "code",
   "execution_count": null,
   "metadata": {},
   "outputs": [],
   "source": []
  },
  {
   "cell_type": "code",
   "execution_count": null,
   "metadata": {},
   "outputs": [],
   "source": []
  },
  {
   "cell_type": "code",
   "execution_count": null,
   "metadata": {},
   "outputs": [],
   "source": []
  },
  {
   "cell_type": "code",
   "execution_count": null,
   "metadata": {},
   "outputs": [],
   "source": []
  },
  {
   "cell_type": "code",
   "execution_count": null,
   "metadata": {},
   "outputs": [],
   "source": []
  },
  {
   "cell_type": "code",
   "execution_count": null,
   "metadata": {},
   "outputs": [],
   "source": []
  },
  {
   "cell_type": "code",
   "execution_count": null,
   "metadata": {},
   "outputs": [],
   "source": []
  },
  {
   "cell_type": "code",
   "execution_count": null,
   "metadata": {},
   "outputs": [],
   "source": []
  },
  {
   "cell_type": "code",
   "execution_count": null,
   "metadata": {},
   "outputs": [],
   "source": []
  },
  {
   "cell_type": "code",
   "execution_count": null,
   "metadata": {},
   "outputs": [],
   "source": []
  },
  {
   "cell_type": "code",
   "execution_count": null,
   "metadata": {},
   "outputs": [],
   "source": []
  },
  {
   "cell_type": "code",
   "execution_count": null,
   "metadata": {},
   "outputs": [],
   "source": []
  },
  {
   "cell_type": "code",
   "execution_count": null,
   "metadata": {},
   "outputs": [],
   "source": []
  },
  {
   "cell_type": "code",
   "execution_count": null,
   "metadata": {},
   "outputs": [],
   "source": []
  },
  {
   "cell_type": "code",
   "execution_count": null,
   "metadata": {},
   "outputs": [],
   "source": []
  },
  {
   "cell_type": "code",
   "execution_count": null,
   "metadata": {},
   "outputs": [],
   "source": []
  },
  {
   "cell_type": "code",
   "execution_count": null,
   "metadata": {},
   "outputs": [],
   "source": []
  }
 ],
 "metadata": {
  "kernelspec": {
   "display_name": "Python 3",
   "language": "python",
   "name": "python3"
  },
  "language_info": {
   "codemirror_mode": {
    "name": "ipython",
    "version": 3
   },
   "file_extension": ".py",
   "mimetype": "text/x-python",
   "name": "python",
   "nbconvert_exporter": "python",
   "pygments_lexer": "ipython3",
   "version": "3.11.9"
  }
 },
 "nbformat": 4,
 "nbformat_minor": 2
}
